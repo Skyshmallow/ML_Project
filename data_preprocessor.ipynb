{
 "cells": [
  {
   "cell_type": "code",
   "execution_count": 1,
   "metadata": {},
   "outputs": [
    {
     "name": "stdout",
     "output_type": "stream",
     "text": [
      "Cleaned data saved to movies_data_cleaned.csv\n"
     ]
    }
   ],
   "source": [
    "import pandas as pd\n",
    "from sklearn.preprocessing import MinMaxScaler\n",
    "\n",
    "# Load the dataset\n",
    "data = pd.read_csv('movies_data.csv')\n",
    "\n",
    "# 1. Handle Missing Values\n",
    "# Drop rows with missing essential fields\n",
    "data = data.dropna(subset=['title', 'release_year', 'rating'])\n",
    "\n",
    "# Fill missing descriptions with a placeholder\n",
    "data['description'] = data['description'].fillna('No description available')\n",
    "\n",
    "# Drop rows where poster_url is missing (optional)\n",
    "data = data.dropna(subset=['poster_url'])\n",
    "\n",
    "# 2. Normalize Numerical Data\n",
    "# Normalize the 'rating' column using MinMaxScaler\n",
    "scaler = MinMaxScaler()\n",
    "data['rating'] = scaler.fit_transform(data[['rating']])\n",
    "\n",
    "# 3. Encode Categorical Features\n",
    "# Split genres into a list and perform one-hot encoding\n",
    "data['genres'] = data['genres'].str.split(', ')\n",
    "\n",
    "# Create a one-hot encoding for genres\n",
    "genres_one_hot = data['genres'].explode().str.get_dummies().groupby(level=0).sum()\n",
    "data = pd.concat([data, genres_one_hot], axis=1)\n",
    "\n",
    "# 4. Remove Duplicates\n",
    "# Remove duplicate entries based on the title\n",
    "data = data.drop_duplicates(subset='title', keep='first')\n",
    "\n",
    "# 5. Save the Cleaned Data\n",
    "data.to_csv('movies_data_cleaned.csv', index=False)\n",
    "print(\"Cleaned data saved to movies_data_cleaned.csv\")\n"
   ]
  },
  {
   "cell_type": "code",
   "execution_count": null,
   "metadata": {},
   "outputs": [],
   "source": []
  }
 ],
 "metadata": {
  "kernelspec": {
   "display_name": "Python 3",
   "language": "python",
   "name": "python3"
  },
  "language_info": {
   "codemirror_mode": {
    "name": "ipython",
    "version": 3
   },
   "file_extension": ".py",
   "mimetype": "text/x-python",
   "name": "python",
   "nbconvert_exporter": "python",
   "pygments_lexer": "ipython3",
   "version": "3.10.6"
  }
 },
 "nbformat": 4,
 "nbformat_minor": 2
}
